# PARTE 1 - SOLICITAÇÃO DE DADOS PRIMÁRIOS AO USUÁRIO #

# Pedir o nome da cidade e o total de resíduos produzidos por kg/mês na cidade
cidade = input("Informe o nome da cidade: ")
residuos_cidade = float(input("Informe a quantidade, em kg, de resíduos gerados por mês na cidade: "))

# Pedir ao usuário a quantidade de bairros
n_bairros = int(input("Informe o número de bairros que a cidade possui: "))

bairros = [] # Lista para armazenar os nomes dos bairros
habitantes_bairro = []  # Lista para armazenar o número de habitantes de cada bairro

# Pedir ao usuário os nomes dos bairros e inserir na lista
for i in range(n_bairros):
    bairro = input(f"Digite o nome do {i+1}º bairro: ")
    bairros.append(bairro)

# Pedir ao usuário o número de habitantes de cada bairro e validar se é um número inteiro válido
for bairro in bairros:
    while True:
        try:
            habitantes = int(input(f"Digite o número de habitantes do bairro {bairro}: "))
            if habitantes < 0:
                print("Por favor, insira um número maior ou igual a zero para o número de habitantes.")
                continue
            else:
                habitantes_bairro.append(habitantes)
                break
        except ValueError:
            print("Por favor, insira um número inteiro para o número de habitantes.")

# PARTE 2 - CALCULANDO A QUANTIDADE DE RESÍDUOS SÓLIDOS GERADOS EM CADA BAIRRO POR SEMANA #

total_habitantes = sum(habitantes_bairro) #sum soma os valores da lista

residuos_por_bairro_semanal = []

for i, habitantes in enumerate(habitantes_bairro):
    proporcao = habitantes / total_habitantes
    residuos_bairro_semanal = round((proporcao * residuos_cidade) / 4)  # Dividindo por 4 para obter a quantidade semanal
    # round arredonda o valor para o inteiro mais próximo
    residuos_por_bairro_semanal.append(residuos_bairro_semanal)

# PARTE 3 - INFORMANDO AO USUÁRIO OS RESULTADOS OBTIDOS

print(f"Cidade: {cidade}")
print("Bairros e seus respectivos números de habitantes:")
for bairro, habitantes in zip(bairros, habitantes_bairro):
  print(f"{bairro}: {habitantes} habitantes")

for bairro, residuos_semanais in zip(bairros, residuos_por_bairro_semanal):
  print(f"No bairro {bairro}, a quantidade de resíduos por semana é de aproximadamente {residuos_semanais} kg.")

# PARTE 4 - QUANTOS CAMINHÕES SERÃO NECESSÁRIOS #

from math import ceil
caminhão = 7000
Quantidade_de_caminhões_necessarios = ceil(residuos_semanais/caminhão)
print(f"Quantidade de caminhões necessários: {Quantidade_de_caminhões_necessarios}")

# PARTE 5 - CALCULO DOS GASTOS #

Coleta = float(1.35*residuos_cidade)
transporte = float(0.65*residuos_cidade)
Aterro = float(0.45*residuos_cidade)
print (f"Valor da coleta: {Coleta}")
print (f"Valor do transporte: {transporte}")
print (f"Valor do aterro: {Aterro}")
print (f"Valor total: {Coleta + transporte + Aterro}")

# PARTE 6 - QUAIS E QAUNTAS ESTAÇÕES DE COLETA O BAIRRO PRECISA? Item da lista #

import math

# Capacidade que uma empresa de pequeno porte pode processar (em kg)
capacidade_empresa_pequena = 500000

# Capacidade que uma empresa de médio porte pode processar (em kg)
capacidade_empresa_media = 2000000

# Calculando quantas empresas seriam necessárias para cada tipo de estação de coleta
empresas_necessarias_pequena = math.ceil(residuos_cidade / capacidade_empresa_pequena)
empresas_necessarias_media = math.ceil(residuos_cidade / capacidade_empresa_media)

# Exibindo os resultados
print("Número estimado de empresas necessárias para processar os resíduos sólidos:")
print(f"Para pequenas estações de coleta:")
print(f"- Necessário: {empresas_necessarias_pequena} empresas")

print(f"Para médias estações de coleta:")
print(f"- Necessário: {empresas_necessarias_media} empresas")
