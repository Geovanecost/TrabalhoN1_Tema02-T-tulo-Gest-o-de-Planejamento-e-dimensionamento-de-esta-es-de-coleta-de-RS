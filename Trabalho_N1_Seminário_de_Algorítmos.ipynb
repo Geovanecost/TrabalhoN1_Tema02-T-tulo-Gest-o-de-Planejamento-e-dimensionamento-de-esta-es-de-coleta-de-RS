{
  "nbformat": 4,
  "nbformat_minor": 0,
  "metadata": {
    "colab": {
      "provenance": [],
      "include_colab_link": true
    },
    "kernelspec": {
      "name": "python3",
      "display_name": "Python 3"
    },
    "language_info": {
      "name": "python"
    }
  },
  "cells": [
    {
      "cell_type": "markdown",
      "metadata": {
        "id": "view-in-github",
        "colab_type": "text"
      },
      "source": [
        "<a href=\"https://colab.research.google.com/github/Geovanecost/TrabalhoN1_Tema02-T-tulo-Gest-o-de-Planejamento-e-dimensionamento-de-esta-es-de-coleta-de-RS/blob/main/Trabalho_N1_Semin%C3%A1rio_de_Algor%C3%ADtmos.ipynb\" target=\"_parent\"><img src=\"https://colab.research.google.com/assets/colab-badge.svg\" alt=\"Open In Colab\"/></a>"
      ]
    },
    {
      "cell_type": "markdown",
      "source": [
        "Parte 1 - Solicitação de dados primários ao usuário"
      ],
      "metadata": {
        "id": "Fg6kSm25mV0b"
      }
    },
    {
      "cell_type": "code",
      "execution_count": 1,
      "metadata": {
        "id": "hBxY--QyCVeJ",
        "outputId": "e3656b4e-1801-4105-946e-69a34304ad93",
        "colab": {
          "base_uri": "https://localhost:8080/"
        }
      },
      "outputs": [
        {
          "name": "stdout",
          "output_type": "stream",
          "text": [
            "Informe o nome da cidade: Natal\n",
            "Informe a quantidade, em kg, de resíduos gerados por mês na cidade: 300\n",
            "Informe o número de bairros que a cidade possui: 2\n",
            "Digite o nome do 1º bairro: Lagoa \n",
            "Digite o nome do 2º bairro: Pneu\n",
            "Digite o número de habitantes do bairro Lagoa : 20\n",
            "Digite o número de habitantes do bairro Pneu: 40\n"
          ]
        }
      ],
      "source": [
        "# Pedir o nome da cidade e o total de resíduos produzidos por kg/mês na cidade\n",
        "cidade = input(\"Informe o nome da cidade: \")\n",
        "residuos_cidade = int(input(\"Informe a quantidade, em kg, de resíduos gerados por mês na cidade: \"))\n",
        "\n",
        "# Pedir ao usuário a quantidade de bairros\n",
        "n_bairros = int(input(\"Informe o número de bairros que a cidade possui: \"))\n",
        "\n",
        "bairros = [] # Lista para armazenar os nomes dos bairros\n",
        "habitantes_bairro = []  # Lista para armazenar o número de habitantes de cada bairro\n",
        "\n",
        "# Pedir ao usuário os nomes dos bairros e inserir na lista\n",
        "for i in range(n_bairros):\n",
        "    bairro = input(f\"Digite o nome do {i+1}º bairro: \")\n",
        "    bairros.append(bairro)\n",
        "\n",
        "# Pedir ao usuário o número de habitantes de cada bairro e validar se é um número inteiro válido\n",
        "for bairro in bairros:\n",
        "    while True:\n",
        "        try:\n",
        "            habitantes = int(input(f\"Digite o número de habitantes do bairro {bairro}: \"))\n",
        "            if habitantes < 0:\n",
        "                print(\"Por favor, insira um número maior ou igual a zero para o número de habitantes.\")\n",
        "                continue\n",
        "            else:\n",
        "                habitantes_bairro.append(habitantes)\n",
        "                break\n",
        "        except ValueError:\n",
        "            print(\"Por favor, insira um número inteiro para o número de habitantes.\")"
      ]
    },
    {
      "cell_type": "markdown",
      "source": [
        "Parte 2 - Calculando a quantidade em kg de resíduos sólidos gerados em cada bairro por semana - considerando o valor fornecido da geração mensal da cidade."
      ],
      "metadata": {
        "id": "C4Q8MB0kl_E1"
      }
    },
    {
      "cell_type": "code",
      "source": [
        "# Calculando a quantidade de resíduos sólidos gerados em cada bairro por semana\n",
        "total_habitantes = sum(habitantes_bairro) #sum soma os valores da lista\n",
        "\n",
        "residuos_por_bairro_semanal = []\n",
        "\n",
        "for i, habitantes in enumerate(habitantes_bairro):\n",
        "    proporcao = habitantes / total_habitantes\n",
        "    residuos_bairro_semanal = round((proporcao * residuos_cidade) / 4)  # Dividindo por 4 para obter a quantidade semanal\n",
        "    # round arredonda o valor para o inteiro mais próximo\n",
        "    residuos_por_bairro_semanal.append(residuos_bairro_semanal)"
      ],
      "metadata": {
        "id": "UsdLp5r3lqEX"
      },
      "execution_count": 2,
      "outputs": []
    },
    {
      "cell_type": "markdown",
      "source": [
        "Parte 3 - Informando ao usuário os resultados obtidos"
      ],
      "metadata": {
        "id": "rcZQvNUyl5Cv"
      }
    },
    {
      "cell_type": "code",
      "source": [
        "print(f\"Cidade: {cidade}\")\n",
        "print(\"Bairros e seus respectivos números de habitantes:\")\n",
        "for bairro, habitantes in zip(bairros, habitantes_bairro):\n",
        "  print(f\"{bairro}: {habitantes} habitantes\")\n",
        "\n",
        "\n",
        "for bairro, residuos_semanais in zip(bairros, residuos_por_bairro_semanal):\n",
        "  print(f\"No bairro {bairro}, a quantidade de resíduos por semana é de aproximadamente {residuos_semanais} kg.\")"
      ],
      "metadata": {
        "id": "OFoGyx4ul2EA",
        "outputId": "5afdbf71-1b13-45cb-c57b-93702a58996e",
        "colab": {
          "base_uri": "https://localhost:8080/"
        }
      },
      "execution_count": 3,
      "outputs": [
        {
          "output_type": "stream",
          "name": "stdout",
          "text": [
            "Cidade: Natal\n",
            "Bairros e seus respectivos números de habitantes:\n",
            "Lagoa : 20 habitantes\n",
            "Pneu: 40 habitantes\n",
            "No bairro Lagoa , a quantidade de resíduos por semana é de aproximadamente 25 kg.\n",
            "No bairro Pneu, a quantidade de resíduos por semana é de aproximadamente 50 kg.\n"
          ]
        }
      ]
    }
  ]
}