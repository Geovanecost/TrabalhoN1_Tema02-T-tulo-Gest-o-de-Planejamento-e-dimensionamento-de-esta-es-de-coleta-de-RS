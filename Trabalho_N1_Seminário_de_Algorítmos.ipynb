   },
    {
      "cell_type" : " código " ,
      "execution_count" : 1 ,
      "execution_count" : nulo ,
      "metadados" : {
        "id" : " hBxY--QyCVeJ " ,
        "outputId" : " e3656b4e-1801-4105-946e-69a34304ad93 " ,
        "outputId" : " 5dcd52a7-cb16-4735-c239-772ea979df34 " ,
        "colab" : {
          "base_uri" : " https://localhost:8080/ "
        }
@@ -52,10 +52,10 @@
            " Informe o nome da cidade: Natal \n " ,
            " Informe a quantidade, em kg, de resíduos gerados por mês na cidade: 300 \n " ,
            " Informe o número de bairros que a cidade possui: 2 \n " ,
            " Digite o nome do 1º bairro: Lagoa \n "  ,
            " Digite o nome do 2º bairro: Pneu \n " ,
            " Digite o número de habitantes do bairro Lagoa  : 20 \n " ,
            " Digite o número de habitantes do bairro Pneu : 40 \n "
            " Digite o nome do 1º bairro: Lagoa \n " ,
            " Digite o nome do 2º bairro: Aqua \n " ,
            " Digite o número de habitantes do bairro Lagoa: 20 \n " ,
            " Digite o número de habitantes do bairro Aqua : 40 \n "
          ]
        }
      ],
@@ -116,7 +116,7 @@
      "metadados" : {
        "id" : " UsdLp5r3lqEX "
      },
      "execução_contagem" : 2 ,
      "execution_count" : nulo ,
      "saídas" : []
    },
    {
@@ -147,7 +147,7 @@
          "base_uri" : " https://localhost:8080/ "
        }
      },
      "execução_contagem" : 3 ,
      "execution_count" : nulo ,
      "saídas" : [
        {
          "output_type" : " fluxo " ,
@@ -162,6 +162,125 @@
          ]
        }
      ]
    },
    {
      "cell_type" : " markdown " ,
      "fonte" : [
        " Quantos caminhões serão necessários "
      ],
      "metadados" : {
        "id" : " 5ueuM_I4MmNV "
      }
    },
    {
      "cell_type" : " código " ,
      "fonte" : [
        " #calculando quantos caminhões seriam necessários \n " ,
        " caminhão = 7000 \n " ,
        " Quantidade_de_caminhos_necessarios = math.ceil(residuos_semanais/caminhão) \n " ,
        " print(f \" Quantidade de caminhões necessários: {Quantidade_de_caminhões_necessários} \" ) "
      ],
      "metadados" : {
        "id" : " ZNjsvHrFECa4 "
      },
      "execution_count" : nulo ,
      "saídas" : []
    },
    {
      "cell_type" : " markdown " ,
      "fonte" : [
        " Cálculo dos Cálculos "
      ],
      "metadados" : {
        "id" : " 5LMwQnvhOvIe "
      }
    },
    {
      "cell_type" : " código " ,
      "fonte" : [
        " Coleta = float(1.35*residuos_cidade) \n " ,
        " transporte = float(0.65*residuos_cidade) \n " ,
        " Aterro = float(0.45*residuos_cidade) \n " ,
        " print (f \" Valor da coleta: {Coleta} \" ) \n " ,
        " print (f \" Valor do transporte: {transporte} \" ) \n " ,
        " print (f \" Valor do aterro: {Aterro} \" ) \n " ,
        " print (f \" Valor total: {Coleta + transporte +Aterro} \" ) "
      ],
      "metadados" : {
        "colab" : {
          "base_uri" : " https://localhost:8080/ "
        },
        "id" : " HykcpGYFOu4w " ,
        "outputId" : " b8bf6e90-8a85-4167-f3f8-c74b6cebfc40 "
      },
      "execution_count" : nulo ,
      "saídas" : [
        {
          "output_type" : " fluxo " ,
          "nome" : " saída padrão " ,
          "texto" : [
            " Valor da coleta: 405.0 \n " ,
            " Valor do transporte: 195.0 \n " ,
            " Valor do aterro: 135.0 \n " ,
            " Valor total: 735.0 \n "
          ]
        }
      ]
    },
    {
      "cell_type" : " markdown " ,
      "fonte" : [
        " Quais e quantas estações de coleta no bairro precisam ? "
      ],
      "metadados" : {
        "id" : " v6iJU6dSScWZ "
      }
    },
    {
      "cell_type" : " código " ,
      "fonte" : [
        " importar matemática \n " ,
        " \n " ,
        " # Capacidade que uma empresa de pequeno porte pode processar (em kg) \n " ,
        " capacidade_empresa_pequena = 500000 \n " ,
        " \n " ,
        " # Capacidade que uma empresa de médio porte pode processar (em kg) \n " ,
        " capacidade_empresa_media = 2000000 \n " ,
        " \n " ,
        " # Calculando quantas empresas seriam necessárias para cada tipo de estação de coleta \n " ,
        " empresas_necessarias_pequena = math.ceil(residuos_cidade / capacidade_empresa_pequena) \n " ,
        " empresas_necessarias_media = math.ceil(residuos_cidade / capacidade_empresa_media) \n " ,
        " \n " ,
        " # Exibindo os resultados \n " ,
        " print( \" Número estimado de empresas necessárias para processamento de resíduos sólidos: \" ) \n " ,
        " print(f \" Para pequenas estações de coleta: \" ) \n " ,
        " print(f \" - Necessário: {empresas_necessarias_pequenas} empresas \" ) \n " ,
        " \n " ,
        " print(f \" Para estações de coleta de mídia: \" ) \n " ,
        " print(f \" - Necessário: {empresas_necessarias_media} empresas \" ) \n " ,
        " \n "
      ],
      "metadados" : {
        "colab" : {
          "base_uri" : " https://localhost:8080/ "
        },
        "id" : " 2DbokmxNMzFm " ,
        "outputId" : " dd0a2830-1f6e-495e-e364-1baa93146e4a "
      },
      "execution_count" : nulo ,
      "saídas" : [
        {
          "output_type" : " fluxo " ,
          "nome" : " saída padrão " ,
          "texto" : [
            " Número estimado de empresas necessárias para processamento de resíduos sólidos: \n " ,
            " Para pequenas estações de coleta: \n " ,
            " - Necessário: 1 empresa \n " ,
            " Para estações de coleta de mídia: \n " ,
            " - Necessário: 1 empresa \n "
          ]
        }
      ]
    }
  ]
}
