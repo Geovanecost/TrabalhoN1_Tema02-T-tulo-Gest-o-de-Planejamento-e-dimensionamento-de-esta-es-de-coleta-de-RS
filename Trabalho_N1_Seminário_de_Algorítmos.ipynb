{
  "nbformat": 4,
  "nbformat_minor": 0,
  "metadata": {
    "colab": {
      "provenance": [],
      "include_colab_link": true
    },
    "kernelspec": {
      "name": "python3",
      "display_name": "Python 3"
    },
    "language_info": {
      "name": "python"
    }
  },
  "cells": [
    {
      "cell_type": "markdown",
      "metadata": {
        "id": "view-in-github",
        "colab_type": "text"
      },
      "source": [
        "<a href=\"https://colab.research.google.com/github/Geovanecost/TrabalhoN1_Tema02-T-tulo-Gest-o-de-Planejamento-e-dimensionamento-de-esta-es-de-coleta-de-RS/blob/main/Trabalho_N1_Semin%C3%A1rio_de_Algor%C3%ADtmos.ipynb\" target=\"_parent\"><img src=\"https://colab.research.google.com/assets/colab-badge.svg\" alt=\"Open In Colab\"/></a>"
      ]
    },
    {
      "cell_type": "markdown",
      "source": [
        "Parte 1 - Solicitação de dados primários ao usuário"
      ],
      "metadata": {
        "id": "Fg6kSm25mV0b"
      }
    },
    {
      "cell_type": "code",
      "execution_count": null,
      "metadata": {
        "id": "hBxY--QyCVeJ",
        "outputId": "488b3429-4280-4306-f9aa-40dd46883627",
        "colab": {
          "base_uri": "https://localhost:8080/"
        }
      },
      "outputs": [
        {
          "output_type": "stream",
          "name": "stdout",
          "text": [
            "Informe o nome da cidade: Natal\n",
            "Informe a quantidade, em kg, de resíduos gerados por mês na cidade: 2000\n",
            "Informe o número de bairros que a cidade possui: 2\n",
            "Digite o nome do 1º bairro: Lagoa\n",
            "Digite o nome do 2º bairro: Lagoinha\n",
            "Digite o número de habitantes do bairro Lagoa: 244\n",
            "Digite o número de habitantes do bairro Lagoinha: 233\n",
            "Cidade: Natal\n",
            "Bairros e seus respectivos números de habitantes:\n",
            "Lagoa: 244 habitantes\n",
            "Lagoinha: 233 habitantes\n",
            "No bairro Lagoa, a quantidade de resíduos por semana é de aproximadamente 256 kg.\n",
            "No bairro Lagoinha, a quantidade de resíduos por semana é de aproximadamente 244 kg.\n",
            "Quantidade de caminhões necessários: 1\n",
            "Valor da coleta: 2700.0\n",
            "Valor do transporte: 1300.0\n",
            "Valor do aterro: 900.0\n",
            "Valor total: 4900.0\n",
            "Número estimado de empresas necessárias para processar os resíduos sólidos:\n",
            "Para pequenas estações de coleta:\n",
            "- Necessário: 1 empresas\n",
            "Para médias estações de coleta:\n",
            "- Necessário: 1 empresas\n"
          ]
        }
      ],
      "source": [
        "# PARTE 1 - SOLICITAÇÃO DE DADOS PRIMÁRIOS AO USUÁRIO #\n",
        "\n",
        "# Pedir o nome da cidade e o total de resíduos produzidos por kg/mês na cidade\n",
        "cidade = input(\"Informe o nome da cidade: \")\n",
        "residuos_cidade = float(input(\"Informe a quantidade, em kg, de resíduos gerados por mês na cidade: \"))\n",
        "\n",
        "# Pedir ao usuário a quantidade de bairros\n",
        "n_bairros = int(input(\"Informe o número de bairros que a cidade possui: \"))\n",
        "\n",
        "bairros = [] # Lista para armazenar os nomes dos bairros\n",
        "habitantes_bairro = []  # Lista para armazenar o número de habitantes de cada bairro\n",
        "\n",
        "# Pedir ao usuário os nomes dos bairros e inserir na lista\n",
        "for i in range(n_bairros):\n",
        "    bairro = input(f\"Digite o nome do {i+1}º bairro: \")\n",
        "    bairros.append(bairro)\n",
        "\n",
        "# Pedir ao usuário o número de habitantes de cada bairro e validar se é um número inteiro válido\n",
        "for bairro in bairros:\n",
        "    while True:\n",
        "        try:\n",
        "            habitantes = int(input(f\"Digite o número de habitantes do bairro {bairro}: \"))\n",
        "            if habitantes < 0:\n",
        "                print(\"Por favor, insira um número maior ou igual a zero para o número de habitantes.\")\n",
        "                continue\n",
        "            else:\n",
        "                habitantes_bairro.append(habitantes)\n",
        "                break\n",
        "        except ValueError:\n",
        "            print(\"Por favor, insira um número inteiro para o número de habitantes.\")\n",
        "\n",
        "# PARTE 2 - CALCULANDO A QUANTIDADE DE RESÍDUOS SÓLIDOS GERADOS EM CADA BAIRRO POR SEMANA #\n",
        "\n",
        "total_habitantes = sum(habitantes_bairro) #sum soma os valores da lista\n",
        "\n",
        "residuos_por_bairro_semanal = []\n",
        "\n",
        "for i, habitantes in enumerate(habitantes_bairro):\n",
        "    proporcao = habitantes / total_habitantes\n",
        "    residuos_bairro_semanal = round((proporcao * residuos_cidade) / 4)  # Dividindo por 4 para obter a quantidade semanal\n",
        "# round arredonda o valor para o inteiro mais próximo\n",
        "    residuos_por_bairro_semanal.append(residuos_bairro_semanal)\n",
        "\n",
        "for bairro, residuos_semanais in zip(bairros, residuos_por_bairro_semanal):\n",
        "  print(f\"No bairro {bairro}, a quantidade de resíduos por semana é de aproximadamente {residuos_semanais} kg.\")\n",
        "\n",
        "# PARTE 4 - QUANTOS CAMINHÕES SERÃO NECESSÁRIOS #                                                                                      (priorizar estruturas de controle)\n",
        "\n",
        "import math\n",
        "\n",
        "caminhão = 7000\n",
        "Quantidade_de_caminhões_necessarios = math.ceil(residuos_semanais/caminhão)\n",
        "print(f\"Quantidade de caminhões necessários: {Quantidade_de_caminhões_necessarios}\")\n",
        "\n",
        "# PARTE 5 - CALCULO DOS GASTOS #                                                                                            (determinar por bairro da cidade para ixibir depois)\n",
        "\n",
        "Coleta = float(1.35*residuos_cidade)\n",
        "transporte = float(0.65*residuos_cidade)\n",
        "Aterro = float(0.45*residuos_cidade)\n",
        "print (f\"Valor da coleta: {Coleta}\")\n",
        "print (f\"Valor do transporte: {transporte}\")\n",
        "print (f\"Valor do aterro: {Aterro}\")\n",
        "print (f\"Valor total: {Coleta + transporte +Aterro}\")\n",
        "\n",
        "# PARTE 6 - QUAIS E QUANTAS ESTAÇÕES DE COLETA O BAIRRO PRECISA? Item da lista #                                           (expressar a variável com a fórmula e exibir a dimensão das estações e quantas são para o usuário)\n",
        "\n",
        "# Capacidade que uma empresa de pequeno porte pode processar (em kg)\n",
        "capacidade_empresa_pequena = 500000\n",
        "\n",
        "# Capacidade que uma empresa de médio porte pode processar (em kg)\n",
        "capacidade_empresa_media = 2000000\n",
        "\n",
        "# Calculando quantas empresas seriam necessárias para cada tipo de estação de coleta\n",
        "empresas_necessarias_pequena = math.ceil(residuos_cidade / capacidade_empresa_pequena)\n",
        "empresas_necessarias_media = math.ceil(residuos_cidade / capacidade_empresa_media)\n",
        "\n",
        "# Exibindo os resultados                                                                                                  (dar uma melhorada)\n",
        "print(\"Número estimado de empresas necessárias para processar os resíduos sólidos:\")\n",
        "print(f\"Para pequenas estações de coleta:\")\n",
        "print(f\"- Necessário: {empresas_necessarias_pequena} empresas\")\n",
        "\n",
        "print(f\"Para médias estações de coleta:\")\n",
        "print(f\"- Necessário: {empresas_necessarias_media} empresas\")\n",
        "\n"
      ]
    }
  ]
}