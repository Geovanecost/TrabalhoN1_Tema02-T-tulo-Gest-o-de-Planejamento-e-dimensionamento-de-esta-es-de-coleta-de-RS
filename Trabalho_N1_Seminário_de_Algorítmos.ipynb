{
  "nbformat": 4,
  "nbformat_minor": 0,
  "metadata": {
    "colab": {
      "provenance": [],
      "include_colab_link": true
    },
    "kernelspec": {
      "name": "python3",
      "display_name": "Python 3"
    },
    "language_info": {
      "name": "python"
    }
  },
  "cells": [
    {
      "cell_type": "markdown",
      "metadata": {
        "id": "view-in-github",
        "colab_type": "text"
      },
      "source": [
        "<a href=\"https://colab.research.google.com/github/Geovanecost/TrabalhoN1_Tema02-T-tulo-Gest-o-de-Planejamento-e-dimensionamento-de-esta-es-de-coleta-de-RS/blob/main/Trabalho_N1_Semin%C3%A1rio_de_Algor%C3%ADtmos.ipynb\" target=\"_parent\"><img src=\"https://colab.research.google.com/assets/colab-badge.svg\" alt=\"Open In Colab\"/></a>"
      ]
    },
    {
      "cell_type": "markdown",
      "source": [
        "Parte 1 - Solicitação de dados primários ao usuário"
      ],
      "metadata": {
        "id": "Fg6kSm25mV0b"
      }
    },
    {
      "cell_type": "code",
      "execution_count": 11,
      "metadata": {
        "id": "hBxY--QyCVeJ",
        "outputId": "9eb71c7c-82c5-438c-e978-b9609757e189",
        "colab": {
          "base_uri": "https://localhost:8080/"
        }
      },
      "outputs": [
        {
          "output_type": "stream",
          "name": "stdout",
          "text": [
            "Informe o nome da cidade: Natal\n",
            "Informe a quantidade, em kg, de resíduos gerados por mês na cidade: 40000\n",
            "Informe o número de bairros que a cidade possui: 2\n",
            "Digite o nome do 1º bairro: Lagoa\n",
            "Digite o nome do 2º bairro: Lagoinha\n",
            "Digite o número de habitantes do bairro Lagoa: 400\n",
            "Digite o número de habitantes do bairro Lagoinha: 300\n",
            "CIDADE: Natal\n",
            "=-==-==-==-==-==-==-==-==-==-==-==-==-==-==-==-==-==-==-==-==-==-==-==-==-==-==-==-==-==-=\n",
            "\n",
            "QUANTIDADE DE RESÍDUOS GERADOS POR SEMANA POR BAIRRO\n",
            "\n",
            "No bairro Lagoa, a quantidade de resíduos por semana é de aproximadamente 5714 kg.\n",
            "\n",
            "No bairro Lagoinha, a quantidade de resíduos por semana é de aproximadamente 4286 kg.\n",
            "\n",
            "=-==-==-==-==-==-==-==-==-==-==-==-==-==-==-==-==-==-==-==-==-==-==-==-==-==-==-==-==-==-=\n",
            "\n",
            "NÚMERO DE ESTAÇÕES DE COLETA POR BAIRRO\n",
            "\n",
            "No bairro Lagoa, são necessárias aproximadamente 35 estações de coleta.\n",
            "\n",
            "No bairro Lagoinha, são necessárias aproximadamente 26 estações de coleta.\n",
            "\n",
            "=-==-==-==-==-==-==-==-==-==-==-==-==-==-==-==-==-==-==-==-==-==-==-==-==-==-==-==-==-==-=\n"
          ]
        }
      ],
      "source": [
        "# PARTE 1 - SOLICITAÇÃO DE DADOS PRIMÁRIOS AO USUÁRIO #\n",
        "\n",
        "# Pedir o nome da cidade e o total de resíduos produzidos por kg/mês na cidade\n",
        "cidade = input('Informe o nome da cidade: ')\n",
        "residuos_cidade = float(input('Informe a quantidade, em kg, de resíduos gerados por mês na cidade: '))\n",
        "\n",
        "# Pedir ao usuário a quantidade de bairros\n",
        "n_bairros = int(input('Informe o número de bairros que a cidade possui: '))\n",
        "\n",
        "bairros = []  # Lista para armazenar os nomes dos bairros\n",
        "habitantes_bairro = []  # Lista para armazenar o número de habitantes de cada bairro\n",
        "\n",
        "# Pedir ao usuário os nomes dos bairros e inserir na lista\n",
        "for i in range(n_bairros):\n",
        "    bairro = input(f'Digite o nome do {i+1}º bairro: ')\n",
        "    bairros.append(bairro)\n",
        "\n",
        "# Pedir ao usuário o número de habitantes de cada bairro e validar se é um número inteiro válido\n",
        "for bairro in bairros:\n",
        "    while True:\n",
        "        try:\n",
        "            habitantes = int(input(f'Digite o número de habitantes do bairro {bairro}: '))\n",
        "            if habitantes < 0:\n",
        "                print('Por favor, insira um número maior ou igual a zero para o número de habitantes.')\n",
        "                continue\n",
        "            else:\n",
        "                habitantes_bairro.append(habitantes)\n",
        "                break\n",
        "        except ValueError:\n",
        "            print('Por favor, insira um número inteiro para o número de habitantes.')\n",
        "\n",
        "# PARTE 2 - CALCULANDO A QUANTIDADE DE RESÍDUOS SÓLIDOS GERADOS EM CADA BAIRRO POR SEMANA #\n",
        "\n",
        "total_habitantes = sum(habitantes_bairro)\n",
        "\n",
        "residuos_por_bairro_semanal = []\n",
        "\n",
        "for i, habitantes in enumerate(habitantes_bairro):\n",
        "    proporcao = habitantes / total_habitantes\n",
        "    residuos_bairro_semanal = round((proporcao * residuos_cidade) / 4)  # Dividindo por 4 para obter a quantidade semanal\n",
        "    residuos_por_bairro_semanal.append(residuos_bairro_semanal)\n",
        "\n",
        "# PARTE 3 - DIMENSIONAMENTO DAS ESTAÇÕES DE COLETA POR BAIRRO #\n",
        "\n",
        "# Fator de conversão: quantos metros quadrados cada kg de resíduo ocupa\n",
        "fator_area_armaz_por_kg = 2\n",
        "\n",
        "# Lista para armazenar o número de estações de coleta por bairro\n",
        "num_estacoes_por_bairro = []\n",
        "\n",
        "# Altura mínima definida para depósitos e setor de triagem (em metros)\n",
        "altura_minima = 4.0  # 4 metros\n",
        "\n",
        "# Limite máximo de área para a Estação de Coleta por bairro\n",
        "area_maxima_estacao = 1500.0  # 1500 metros quadrados\n",
        "\n",
        "# Itera sobre cada bairro para calcular o número de estações de coleta\n",
        "for bairro, residuos_diarios in zip(bairros, residuos_por_bairro_semanal):\n",
        "    # Calcula a área necessária para o armazenamento de resíduos para as estações por bairro com base na quantidade de resíduos semanais\n",
        "    area_necessaria_armaz_bairro = residuos_diarios * fator_area_armaz_por_kg\n",
        "\n",
        "    # Calcula a área de logística adicional (15% da área necessária)\n",
        "    area_de_logistica = area_necessaria_armaz_bairro * 0.15\n",
        "    area_total_com_logistica = area_necessaria_armaz_bairro + area_de_logistica\n",
        "\n",
        "    # Dimensionamento do depósito (retângulo) do bairro atual\n",
        "    altura_armaz = altura_minima\n",
        "    largura_armaz = area_total_com_logistica / altura_armaz\n",
        "    area_real_armaz = largura_armaz * altura_armaz\n",
        "\n",
        "    # Ajusta as dimensões do retângulo até alcançar a área necessária para o bairro\n",
        "    while area_real_armaz < area_total_com_logistica:\n",
        "        altura_armaz += 1\n",
        "        largura_armaz = area_total_com_logistica / altura_armaz\n",
        "        area_real_armaz = largura_armaz * altura_armaz\n",
        "\n",
        "    # Calcula o perímetro do depósito (retângulo) do bairro\n",
        "    perimetro_armaz = 2 * (largura_armaz + altura_armaz)\n",
        "\n",
        "    # Dimensionamento do setor de triagem (retângulo) do bairro atual\n",
        "    largura_triagem = 2 * largura_armaz  # Largura do setor de triagem é duas vezes a largura do depósito\n",
        "    altura_triagem = altura_minima\n",
        "    area_triagem = largura_triagem * altura_triagem\n",
        "\n",
        "    # Calcula a área total da Estação de Coleta\n",
        "    area_total_estacao = 2 * area_real_armaz + area_triagem\n",
        "\n",
        "    # Verifica quantas estações de coleta são necessárias para não ultrapassar o limite máximo de área\n",
        "    num_estacoes = area_total_estacao / area_maxima_estacao\n",
        "    num_estacoes_por_bairro.append(num_estacoes)\n",
        "\n",
        "# PARTE 4 - IMPRESSÃO DOS RESULTADOS POR BAIRRO #\n",
        "\n",
        "print(f'CIDADE: {cidade}')\n",
        "print('=-=' * 30)\n",
        "print()\n",
        "\n",
        "# Impressão da quantidade de resíduos gerados por semana em cada bairro\n",
        "print('QUANTIDADE DE RESÍDUOS GERADOS POR SEMANA POR BAIRRO')\n",
        "print()\n",
        "for bairro, residuos_semanais in zip(bairros, residuos_por_bairro_semanal):\n",
        "    print(f'No bairro {bairro}, a quantidade de resíduos por semana é de aproximadamente {residuos_semanais} kg.')\n",
        "    print()\n",
        "\n",
        "print('=-=' * 30)\n",
        "print()\n",
        "\n",
        "# Impressão do número de estações de coleta por bairro\n",
        "print('NÚMERO DE ESTAÇÕES DE COLETA POR BAIRRO')\n",
        "print()\n",
        "for bairro, num_estacoes in zip(bairros, num_estacoes_por_bairro):\n",
        "    print(f'No bairro {bairro}, são necessárias aproximadamente {int(num_estacoes)} estações de coleta.')\n",
        "    print()\n",
        "\n",
        "print('=-=' * 30)"
      ]
    },
    {
      "cell_type": "code",
      "source": [
        "\n",
        "#_____________________________________________________________________________________________________________________________________________________________________________\n",
        "\n",
        "# PARTE 6 - QUANTOS CAMINHÕES SERÃO NECESSÁRIOS #                                                                                      (priorizar estruturas de controle)\n",
        "\n",
        "import math\n",
        "\n",
        "caminhão = 7000\n",
        "Quantidade_de_caminhões_necessarios = math.ceil(residuos_semanais/caminhão)\n",
        "print(f\"Quantidade de caminhões necessários: {Quantidade_de_caminhões_necessarios}\")\n",
        "\n"
      ],
      "metadata": {
        "id": "3l2egllaP315"
      },
      "execution_count": null,
      "outputs": []
    }
  ]
}