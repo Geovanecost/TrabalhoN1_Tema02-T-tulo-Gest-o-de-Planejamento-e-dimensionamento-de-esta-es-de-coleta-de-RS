{
  "nbformat": 4,
  "nbformat_minor": 0,
  "metadata": {
    "colab": {
      "provenance": [],
      "authorship_tag": "ABX9TyNLuohMtRmmlAnyxkiJ4n6F",
      "include_colab_link": true
    },
    "kernelspec": {
      "name": "python3",
      "display_name": "Python 3"
    },
    "language_info": {
      "name": "python"
    }
  },
  "cells": [
    {
      "cell_type": "markdown",
      "metadata": {
        "id": "view-in-github",
        "colab_type": "text"
      },
      "source": [
        "<a href=\"https://colab.research.google.com/github/Geovanecost/TrabalhoN1_Tema02-T-tulo-Gest-o-de-Planejamento-e-dimensionamento-de-esta-es-de-coleta-de-RS/blob/main/Trabalho_N2_Semin%C3%A1rio_de_Algor%C3%ADtmos.ipynb\" target=\"_parent\"><img src=\"https://colab.research.google.com/assets/colab-badge.svg\" alt=\"Open In Colab\"/></a>"
      ]
    },
    {
      "cell_type": "markdown",
      "source": [
        "Fonte de qual foi extraída a informação da média do peso aparente de resíduos domésticos: 231 kg/m³. Dado retirado de estudo gravimétrico realizado em fortaleza e apresentado no IBEAS: http://connepi.ifal.edu.br/ocs/index.php/connepi/CONNEPI2010/paper/viewFile/167/157\n",
        "\n",
        "Fonte de qual foi extraída a capacidade de um caminhão de lixo (9 toneladas): https://www.revistacaminhoneiro.com.br/saiba-qual-a-capacidade-de-um-caminhao-de-lixo"
      ],
      "metadata": {
        "id": "r5YZoYU9Y0y0"
      }
    },
    {
      "cell_type": "code",
      "execution_count": null,
      "metadata": {
        "id": "8k_fAF4DLl-G",
        "colab": {
          "base_uri": "https://localhost:8080/"
        },
        "outputId": "2431ef68-54ca-4f23-8456-29e1874fd711"
      },
      "outputs": [
        {
          "output_type": "stream",
          "name": "stdout",
          "text": [
            "Informe o nome da cidade: Cidade Grande\n",
            "Informe a quantidade, em kg, de resíduos gerados por mês na cidade: 24000\n",
            "Informe o número de bairros que a cidade possui: 3\n",
            "Digite o nome do 1º bairro: x\n",
            "Digite o número de habitantes do bairro x: 500\n",
            "Digite o nome do 2º bairro: y\n",
            "Digite o número de habitantes do bairro y: 1000\n",
            "Digite o nome do 3º bairro: z\n",
            "Digite o número de habitantes do bairro z: 1500\n",
            "=-==-==-==-==-==-==-==-==-==-==-==-==-==-==-==-==-==-==-==-==-==-==-==-==-==-==-==-==-==-=\n",
            "Bairro: x\n",
            "\n",
            "  - Dimensões dos Depósitos: 5.00m de largura x 15.00m de comprimento x 7.0m de altura\n",
            "  - Dimensões do Setor de Triagem: 10.00m de largura x 7.50m de comprimento x 7.0m de altura\n",
            "  - Dimensões da Estação de Coleta e Triagem: 10.00m de largura x 22.50m de comprimento x 7.0m de altura\n",
            "  - Número de Estações Necessárias: 1 unidade(s)\n",
            "  - Número de funcionários: 2\n",
            "  - Número de caminhões para recolhimento e destinação por semana: 1\n",
            "\n",
            "=-==-==-==-==-==-==-==-==-==-==-==-==-==-==-==-==-==-==-==-==-==-==-==-==-==-==-==-==-==-=\n",
            "Bairro: y\n",
            "\n",
            "  - Dimensões dos Depósitos: 5.00m de largura x 15.00m de comprimento x 7.0m de altura\n",
            "  - Dimensões do Setor de Triagem: 10.00m de largura x 7.50m de comprimento x 7.0m de altura\n",
            "  - Dimensões da Estação de Coleta e Triagem: 10.00m de largura x 22.50m de comprimento x 7.0m de altura\n",
            "  - Número de Estações Necessárias: 1 unidade(s)\n",
            "  - Número de funcionários: 2\n",
            "  - Número de caminhões para recolhimento e destinação por semana: 1\n",
            "\n",
            "=-==-==-==-==-==-==-==-==-==-==-==-==-==-==-==-==-==-==-==-==-==-==-==-==-==-==-==-==-==-=\n",
            "Bairro: z\n",
            "\n",
            "  - Dimensões dos Depósitos: 5.00m de largura x 15.00m de comprimento x 7.0m de altura\n",
            "  - Dimensões do Setor de Triagem: 10.00m de largura x 7.50m de comprimento x 7.0m de altura\n",
            "  - Dimensões da Estação de Coleta e Triagem: 10.00m de largura x 22.50m de comprimento x 7.0m de altura\n",
            "  - Número de Estações Necessárias: 1 unidade(s)\n",
            "  - Número de funcionários: 2\n",
            "  - Número de caminhões para recolhimento e destinação por semana: 1\n",
            "\n"
          ]
        }
      ],
      "source": [
        "import math\n",
        "\n",
        "def solicitar_dados():\n",
        "    cidade = input('Informe o nome da cidade: ')\n",
        "    qnt_rs_cidade = float(input('Informe a quantidade, em kg, de resíduos gerados por mês na cidade: '))\n",
        "    n_bairros = int(input('Informe o número de bairros que a cidade possui: '))\n",
        "\n",
        "    nomes_bairros = []\n",
        "    n_hab_bairro = []\n",
        "\n",
        "    for i in range(n_bairros):\n",
        "        bairro = input(f'Digite o nome do {i+1}º bairro: ')\n",
        "        nomes_bairros.append(bairro)\n",
        "        while True:\n",
        "            n_hab = int(input(f'Digite o número de habitantes do bairro {bairro}: '))\n",
        "            if n_hab >= 0:\n",
        "                n_hab_bairro.append(n_hab)\n",
        "                break\n",
        "            print('Por favor, insira um número maior ou igual a zero para o número de habitantes.')\n",
        "\n",
        "    return cidade, qnt_rs_cidade, nomes_bairros, n_hab_bairro\n",
        "\n",
        "def calcular_residuos_semanal(qnt_rs_cidade, total_habitantes, n_hab_bairro):\n",
        "    residuos_por_habitante_semanal = (qnt_rs_cidade / 4) / total_habitantes\n",
        "    return [round(n_hab * residuos_por_habitante_semanal) for n_hab in n_hab_bairro]\n",
        "\n",
        "def calcular_areas(residuos_por_bairro_semanal):\n",
        "    areas_armazenamento = [round(residuos / 231) for residuos in residuos_por_bairro_semanal]\n",
        "    return [round(area / 7) for area in areas_armazenamento]\n",
        "\n",
        "def ajustar_areas(areas_armazenamento):\n",
        "    return [area + (area * 0.1) for area in areas_armazenamento]\n",
        "\n",
        "def calcular_dimensoes(area_dep, larg_dep_max, compri_dep_max, larg_dep_min, compri_dep_min):\n",
        "    altura_dep = 7\n",
        "    larg_dep = min(math.sqrt(area_dep / 2), larg_dep_max)\n",
        "    compri_dep = min(math.sqrt(2 * area_dep), compri_dep_max)\n",
        "\n",
        "    larg_dep = max(larg_dep, larg_dep_min)\n",
        "    compri_dep = max(compri_dep, compri_dep_min)\n",
        "\n",
        "    return larg_dep, compri_dep, altura_dep\n",
        "\n",
        "def imprimir_resultados(bairro, larg_dep, compri_dep, altura_dep, compri_triagem, larg_triagem, compri_estacao, larg_estacao, n_estacoes, n_funcionarios, n_caminhoes):\n",
        "    print('=-=' * 30)\n",
        "    print(f'Bairro: {bairro}')\n",
        "    print()\n",
        "    print(f'  - Dimensões dos Depósitos: {larg_dep:.2f}m de largura x {compri_dep:.2f}m de comprimento x {altura_dep:.2f}m de altura')\n",
        "    print(f'  - Dimensões do Setor de Triagem: {larg_triagem:.2f}m de largura x {compri_triagem:.2f}m de comprimento x {altura_dep:.2f}m de altura')\n",
        "    print(f'  - Dimensões da Estação de Coleta e Triagem: {larg_estacao:.2f}m de largura x {compri_estacao:.2f}m de comprimento x {altura_dep:.2f}m de altura')\n",
        "    print(f'  - Número de Estações Necessárias: {n_estacoes} unidade(s)')\n",
        "    print(f'  - Número de funcionários: {n_funcionarios}')\n",
        "    print(f'  - Número de caminhões para recolhimento e destinação por semana: {n_caminhoes}')\n",
        "    print()\n",
        "\n",
        "# Função principal\n",
        "cidade, qnt_rs_cidade, nomes_bairros, n_hab_bairro = solicitar_dados()\n",
        "\n",
        "total_habitantes = sum(n_hab_bairro)\n",
        "residuos_por_bairro_semanal = calcular_residuos_semanal(qnt_rs_cidade, total_habitantes, n_hab_bairro)\n",
        "areas_armazenamento = calcular_areas(residuos_por_bairro_semanal)\n",
        "areas_dep = ajustar_areas(areas_armazenamento)\n",
        "\n",
        "larg_dep_max = 10\n",
        "compri_dep_max = 20\n",
        "area_dep_max = 200\n",
        "larg_dep_min = 5\n",
        "compri_dep_min = 15\n",
        "area_dep_min = 75\n",
        "\n",
        "for i, bairro in enumerate(nomes_bairros):\n",
        "    area_dep = areas_dep[i]\n",
        "    larg_dep, compri_dep, altura_dep = calcular_dimensoes(area_dep, larg_dep_max, compri_dep_max, larg_dep_min, compri_dep_min)\n",
        "\n",
        "    compri_triagem = compri_dep / 2\n",
        "    larg_triagem = larg_dep * 2\n",
        "    larg_estacao = larg_dep * 2\n",
        "    compri_estacao = compri_dep + compri_triagem\n",
        "\n",
        "    n_estacoes = max(1, round(area_dep / area_dep_max))\n",
        "    n_funcionarios = round(area_dep / 1.25)\n",
        "    n_caminhoes = max(1, round(areas_armazenamento[i] / 39))\n",
        "\n",
        "    imprimir_resultados(bairro, larg_dep, compri_dep, altura_dep, compri_triagem, larg_triagem, compri_estacao, larg_estacao, n_estacoes, n_funcionarios, n_caminhoes)\n",
        "\n"
      ]
    }
  ]
}